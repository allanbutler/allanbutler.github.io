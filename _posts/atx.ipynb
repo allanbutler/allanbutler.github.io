import pandas as pd
from prophet import Prophet

df_inv = pd.read_csv('/home/cmai/workspace/b174270/cmai/aldee153.github.io/inventory.csv')
df_home_values = pd.read_csv('/home/cmai/workspace/b174270/cmai/aldee153.github.io/home_values.csv')
df_rentals = pd.read_csv('/home/cmai/workspace/b174270/cmai/aldee153.github.io/rentals_by_city.csv')

#df_inv.head(5)
#df_inv[df_inv.RegionName.str.contains('TX')]

values = df_inv.iloc[:, 5:96]

df_inv_long = pd.melt(df_inv, id_vars=["RegionName"],
       value_vars=values,
       var_name="date", value_name="inventory")
# Change date from object to date
df_inv_long['date'] = pd.to_datetime(df_inv_long['date'], infer_datetime_format=True)
df_inv_long
df_inv_long

df_home_values.head(5)

values = df_home_values.iloc[:, 5:96]

df_home_values_long = pd.melt(df_home_values, id_vars=["RegionName"],
       value_vars=values,
       var_name="date", value_name="home_values")
# Change date from object to date
df_home_values_long['date'] = pd.to_datetime(df_home_values_long['date'], infer_datetime_format=True)
df_home_values_long

print(df_home_values_long.dtypes)
print(df_inv_long.dtypes)

df_inv_long.date = pd.to_datetime(df_inv_long.date)
print(df_inv_long.dtypes)

# Join home values & inventory
homes_df = pd.merge(df_home_values_long, df_inv_long, how='inner', on=['RegionName', 'date'])
homes_df.head(5)

df_rentals.head(5)

df_tx_rent = df_rentals[df_rentals.RegionName.str.contains('TX', 'United States')]
df_tx_rent

values = df_tx_rent.iloc[:, 3:96]

df_rental_long = pd.melt(df_tx_rent, id_vars=["RegionName"],
       value_vars=values,
       var_name="date", value_name="rental_price")
df_rental_long

import matplotlib.pyplot as plt
#https://www.machinelearningplus.com/time-series/time-series-analysis-python/

tx_df = df_rental_long[(df_rental_long.RegionName == "Austin, TX") & df_rental_long.RegionName == "Houston, TX")]

#plt.plot(atx_df.date, atx_df['rental_price'])
#plt.title('ATX Rental Price')
#plt.ylabel('Rental Price ($)');
#plt.show()


plt.figure(figsize=(10, 8))
plt.plot(df_rental_long['Date'], df_rental_long['gm_cap'], 'b-', label = 'GM')
plt.plot(df_rental_long['Date'], df_rental_long['tesla_cap'], 'r-', label = 'TESLA')
plt.xlabel('Date'); plt.ylabel('Market Cap (Billions $)'); plt.title('Market Cap of GM and Tesla')
plt.legend();

import matplotlib.pyplot as plt
#https://www.machinelearningplus.com/time-series/time-series-analysis-python/

htx_df = df_rental_long[(df_rental_long.RegionName == "Houston, TX")]

plt.plot(htx_df.date, htx_df['rental_price'])
plt.title('Houston Rental Price')
plt.ylabel('Rental Price ($)');
plt.show()

import matplotlib.pyplot as plt
#https://www.machinelearningplus.com/time-series/time-series-analysis-python/

us_df = df_rental_long[(df_rental_long.RegionName == "United States")]

plt.plot(us_df.date, us_df['rental_price'])
plt.title('US Rental Price')
plt.ylabel('Rental Price ($)');
plt.show()
