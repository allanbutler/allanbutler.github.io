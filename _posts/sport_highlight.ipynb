import pandas as pd
import pytesseract
import cv2
from moviepy.editor import *
import json
import requests

# Source: https://betterprogramming.pub/automatically-creating-nba-highlights-in-5-minutes-7f90bfedd775

Provides Games Played on A given Date

date = '20220405'

jsn = f"https://data.nba.net/10s/prod/v1/{date}/scoreboard.json"
page = requests.get(jsn)
j = json.loads(page.content)

Extract Data & Load It Into A Pandas `dataframe`

game_id = '0022101053'

raw_game = f'https://cdn.nba.com/static/json/liveData/playbyplay/playbyplay_{game_id}.json'
page = requests.get(raw_game)
j = json.loads(page.content)
df = pd.DataFrame(j['game']['actions'])
df.head(5)

Filter Plays That Are Of Interest

ndf = df[['clock', 'period', 'description', 'teamTricode', 'shotResult', 'actionType']]
ndf = ndf[ndf['shotResult'] == 'Made']
ndf = ndf[ndf['actionType'] != 'freethrow']

Process The Game Film

cap = cv2.VideoCapture(video_path)
ret, frame = cap.read()
while cap.isOpened():
    print("Cannot Open")
    exit()

1) Crop the original frame and only leave the bottom third, where the game clock is located (this is to not waste time reading the entire frame).
2) Convert the image to grayscale.
3) Convert the grayscale image to black & white.
4) Apply Gaussian blur to the black & white image.

Run the Processed Frame Through The Tesseract Engine

data = pytesseract.image_to_string(blurred, lang='eng', config=' - psm 11')

Create Mapping of the Common Mistakes for Each Quarter

firstQ  = ['1st', 'ist', 'ast']
secondQ = ['2nd', '2n', 'znd']
thirdQ  = ['3rd', '3r', '3r0', '3ro', '37d', '3fd', '31d']
fourth  = ['4th', '4t', '47h', '41h', '4h']

Save The Frame Number

curr_frame = cap.get(cv2.CAP_PROP_POS_FRAMES)
frame_loc.append(curr_frame)

Piece Together The Frames

clips = []
for frame in highlight_frames:
clip_name = video.subclip(round(frame/fps) - 4, round(frame/fps)+ 2)
clips.append(clip_name)
final_clip = concatenate_videoclips(clips)
final_clip.write_videofile(output_path,
                           codec='libx264',
                           audio_codec='aac',
                           fps=fps)

